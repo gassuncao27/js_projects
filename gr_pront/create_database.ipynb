{
 "cells": [
  {
   "cell_type": "code",
   "execution_count": 3,
   "metadata": {},
   "outputs": [
    {
     "name": "stdout",
     "output_type": "stream",
     "text": [
      "Tabela paciente criada com sucesso.\n"
     ]
    }
   ],
   "source": [
    "import psycopg2\n",
    "from psycopg2 import sql, OperationalError\n",
    "\n",
    "try:\n",
    "    conn = psycopg2.connect(\n",
    "        dbname=\"gabrielassuncao\",\n",
    "        user=\"postgres\",\n",
    "        password=\"gabiru_test\",    \n",
    "        host=\"localhost\",\n",
    "        port=\"5432\"\n",
    "    )\n",
    "\n",
    "    cur = conn.cursor()\n",
    "    create_table_query = '''\n",
    "    CREATE TABLE paciente (\n",
    "        id_paciente SERIAL PRIMARY KEY,\n",
    "        nome_completo TEXT NOT NULL,\n",
    "        data_nascimento DATE,\n",
    "        sexo CHAR(1) NOT NULL CHECK (sexo IN ('M', 'F', 'O')),\n",
    "        email TEXT,\n",
    "        profissao VARCHAR,\n",
    "        nome_mae TEXT,\n",
    "        telefone VARCHAR,\n",
    "        cpf_nr VARCHAR,\n",
    "        id_nr VARCHAR,\n",
    "        cnh_nr VARCHAR,\n",
    "        planosaude_empresa TEXT,\n",
    "        planosaude_numero VARCHAR,\n",
    "        endereco_cep VARCHAR,\n",
    "        endereco_estado VARCHAR,\n",
    "        endereco_cidade VARCHAR,\n",
    "        endereco_rua TEXT,\n",
    "        endereco_numero VARCHAR,\n",
    "        endereco_complemento VARCHAR,\n",
    "        endereco_bairro VARCHAR\n",
    "    );\n",
    "    '''\n",
    "\n",
    "    cur.execute(create_table_query)\n",
    "    conn.commit()\n",
    "    cur.close()\n",
    "    conn.close()\n",
    "    print(\"Tabela paciente criada com sucesso.\")\n",
    "\n",
    "except OperationalError as e:\n",
    "    print(f\"Erro ao conectar ao banco de dados: {e}\")\n",
    "except Exception as e:\n",
    "    print(f\"Ocorreu um erro: {e}\")\n"
   ]
  },
  {
   "cell_type": "code",
   "execution_count": null,
   "metadata": {},
   "outputs": [],
   "source": []
  }
 ],
 "metadata": {
  "kernelspec": {
   "display_name": ".venv",
   "language": "python",
   "name": "python3"
  },
  "language_info": {
   "codemirror_mode": {
    "name": "ipython",
    "version": 3
   },
   "file_extension": ".py",
   "mimetype": "text/x-python",
   "name": "python",
   "nbconvert_exporter": "python",
   "pygments_lexer": "ipython3",
   "version": "3.10.12"
  }
 },
 "nbformat": 4,
 "nbformat_minor": 2
}
